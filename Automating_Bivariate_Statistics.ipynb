def unistats(df):
import pandas as pd
output_df = pd.DataFrame(columns=['Count', 'Unique', 'Type', 'Min',
'Max', '25%', '50%', '75%', 'Mean', 'Median', 'Mode', 'Std', 'Skew',
'Kurt'])
for col in df.columns:
# these are the outputs that apply to every variable regardless of
data type
count = df[col].count()
unique = df[col].nunique()
dtype = str(df[col].dtype)
if pd.api.types.is_numeric_dtype(dtype):
# perform additional calculations for numeric variables
min = round(df[col].min(), 2)
max = round(df[col].max(), 2)
quar_1 = round(df[col].quantile(.25), 2)
quar_2 = round(df[col].quantile(.50), 2)
quar_3 = round(df[col].quantile(.75), 2)
mean = round(df[col].mean(), 2)
median = round(df[col].median(), 2)
mode = round(df[col].mode().values[0], 2) # Use the .values[0]
to prevent the return of an extra printed datatype
std = round(df[col].std(), 2)
skew = round(df[col].skew(), 2)
kurt = round(df[col].kurt(), 2)
output_df.loc[col] = (count, unique, dtype, min, max, quar_1,
quar_2, quar_3, mean, median, mode, std, skew, kurt)
else:
output_df.loc[col] = (count, unique, dtype, '-', '-', '-', '-',
'-', '-', '-', '-', '-', '-', '-')
return output_df
def bivariate_stats(df, label, roundto=4):
import pandas as pd
from scipy import stats
output_df = pd.DataFrame(columns=['missing', 'p', 'r', 'y = m(x) +
b', 'F', 'X2'])for feature in df.columns:
if feature != label:
df_temp = df[[feature, label]]
df_temp = df_temp.dropna()
missing = (df.shape[0] - df_temp.shape[0]) / df.shape[0]
if pd.api.types.is_numeric_dtype(df_temp[feature]) and
pd.api.types.is_numeric_dtype(df_temp[label]):
m, b, r, p, err = stats.linregress(df_temp[feature],
df_temp[label])
output_df.loc[feature] = [f'{missing:.2%}', round(p, roundto),
round(r, roundto), f'y = {round(m, roundto)}(x) + {round(b,
roundto)}', '-', '-']
elif not pd.api.types.is_numeric_dtype(df_temp[feature]) and not
pd.api.types.is_numeric_dtype(df_temp[label]):
contingency_table = pd.crosstab(df_temp[feature],
df_temp[label]) # Calculate the crosstab
X2, p, dof, expected =
stats.chi2_contingency(contingency_table) # Calculate the Chi-square
based on the crosstab
output_df.loc[feature] = [f'{missing:.2%}', round(p, roundto),
'-', '-', '-', round(X2, roundto)]
else:
if pd.api.types.is_numeric_dtype(df_temp[feature]):
num = feature
cat = label
else:
num = label
cat = feature
groups = df_temp[cat].unique()
group_lists = []
for g in groups:
g_list = df_temp[df_temp[cat] == g][num]
group_lists.append(g_list)
results = stats.f_oneway(*group_lists)
F = results[0]
p = results[1]
output_df.loc[feature] = [f'{missing:.2%}', round(p, roundto),
'-', '-', round(F, roundto), '-']
return output_df.sort_values(by=['p'])